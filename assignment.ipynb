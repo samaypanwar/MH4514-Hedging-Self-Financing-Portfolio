{
 "cells": [
  {
   "cell_type": "code",
   "execution_count": 2,
   "metadata": {},
   "outputs": [],
   "source": [
    "import numpy as np\n",
    "import pandas as pd\n",
    "import matplotlib.pyplot as plt\n",
    "import yfinance as yfin\n",
    "plt.style.use('seaborn')"
   ]
  },
  {
   "cell_type": "code",
   "execution_count": 3,
   "metadata": {},
   "outputs": [],
   "source": [
    "option_prices = pd.read_csv(\"Historical_Data(1).csv\", index_col = 0)\n",
    "option_prices.index = pd.to_datetime(option_prices.index, format = '%d/%m/%Y')"
   ]
  },
  {
   "cell_type": "code",
   "execution_count": 4,
   "metadata": {},
   "outputs": [],
   "source": [
    "ENTITLEMENT_RATIO = option_prices['Ent. Ratio^'][0]\n",
    "STRIKE = option_prices['Strike'][0]"
   ]
  },
  {
   "cell_type": "code",
   "execution_count": 5,
   "metadata": {},
   "outputs": [],
   "source": [
    "options = option_prices[['Delta (%)', 'Closing Price']]\n",
    "options.sort_index(axis=0, inplace=True)"
   ]
  },
  {
   "cell_type": "code",
   "execution_count": 6,
   "metadata": {},
   "outputs": [
    {
     "name": "stdout",
     "output_type": "stream",
     "text": [
      "[*********************100%***********************]  1 of 1 completed\n"
     ]
    }
   ],
   "source": [
    "asset_prices = yfin.download('0700.HK', start_date = options.index[0].date(), end_date = options.index[-1].date())\n",
    "\n",
    "asset_prices = asset_prices.loc[options.index[0]:, 'Close']"
   ]
  },
  {
   "cell_type": "code",
   "execution_count": 7,
   "metadata": {},
   "outputs": [],
   "source": [
    "data = pd.concat([options, asset_prices], axis=1, join='inner')\n",
    "data.columns = ['Delta', 'Option', 'Asset']\n",
    "data.Option = data.Option * ENTITLEMENT_RATIO"
   ]
  },
  {
   "cell_type": "code",
   "execution_count": 8,
   "metadata": {},
   "outputs": [
    {
     "data": {
      "text/html": [
       "<div>\n",
       "<style scoped>\n",
       "    .dataframe tbody tr th:only-of-type {\n",
       "        vertical-align: middle;\n",
       "    }\n",
       "\n",
       "    .dataframe tbody tr th {\n",
       "        vertical-align: top;\n",
       "    }\n",
       "\n",
       "    .dataframe thead th {\n",
       "        text-align: right;\n",
       "    }\n",
       "</style>\n",
       "<table border=\"1\" class=\"dataframe\">\n",
       "  <thead>\n",
       "    <tr style=\"text-align: right;\">\n",
       "      <th></th>\n",
       "      <th>Delta</th>\n",
       "      <th>Option</th>\n",
       "      <th>Asset</th>\n",
       "    </tr>\n",
       "  </thead>\n",
       "  <tbody>\n",
       "    <tr>\n",
       "      <th>2021-11-01</th>\n",
       "      <td>-0.300</td>\n",
       "      <td>24.077576</td>\n",
       "      <td>469.600006</td>\n",
       "    </tr>\n",
       "    <tr>\n",
       "      <th>2021-11-02</th>\n",
       "      <td>-0.318</td>\n",
       "      <td>26.213490</td>\n",
       "      <td>464.000000</td>\n",
       "    </tr>\n",
       "    <tr>\n",
       "      <th>2021-11-03</th>\n",
       "      <td>-0.301</td>\n",
       "      <td>23.883402</td>\n",
       "      <td>469.000000</td>\n",
       "    </tr>\n",
       "    <tr>\n",
       "      <th>2021-11-04</th>\n",
       "      <td>-0.268</td>\n",
       "      <td>21.262053</td>\n",
       "      <td>480.799988</td>\n",
       "    </tr>\n",
       "    <tr>\n",
       "      <th>2021-11-05</th>\n",
       "      <td>-0.305</td>\n",
       "      <td>23.980489</td>\n",
       "      <td>467.399994</td>\n",
       "    </tr>\n",
       "    <tr>\n",
       "      <th>...</th>\n",
       "      <td>...</td>\n",
       "      <td>...</td>\n",
       "      <td>...</td>\n",
       "    </tr>\n",
       "    <tr>\n",
       "      <th>2022-03-07</th>\n",
       "      <td>NaN</td>\n",
       "      <td>33.980450</td>\n",
       "      <td>388.000000</td>\n",
       "    </tr>\n",
       "    <tr>\n",
       "      <th>2022-03-08</th>\n",
       "      <td>NaN</td>\n",
       "      <td>36.407625</td>\n",
       "      <td>383.200012</td>\n",
       "    </tr>\n",
       "    <tr>\n",
       "      <th>2022-03-09</th>\n",
       "      <td>NaN</td>\n",
       "      <td>39.320235</td>\n",
       "      <td>384.799988</td>\n",
       "    </tr>\n",
       "    <tr>\n",
       "      <th>2022-03-10</th>\n",
       "      <td>NaN</td>\n",
       "      <td>35.436755</td>\n",
       "      <td>385.000000</td>\n",
       "    </tr>\n",
       "    <tr>\n",
       "      <th>2022-03-11</th>\n",
       "      <td>NaN</td>\n",
       "      <td>48.543500</td>\n",
       "      <td>367.799988</td>\n",
       "    </tr>\n",
       "  </tbody>\n",
       "</table>\n",
       "<p>91 rows × 3 columns</p>\n",
       "</div>"
      ],
      "text/plain": [
       "            Delta     Option       Asset\n",
       "2021-11-01 -0.300  24.077576  469.600006\n",
       "2021-11-02 -0.318  26.213490  464.000000\n",
       "2021-11-03 -0.301  23.883402  469.000000\n",
       "2021-11-04 -0.268  21.262053  480.799988\n",
       "2021-11-05 -0.305  23.980489  467.399994\n",
       "...           ...        ...         ...\n",
       "2022-03-07    NaN  33.980450  388.000000\n",
       "2022-03-08    NaN  36.407625  383.200012\n",
       "2022-03-09    NaN  39.320235  384.799988\n",
       "2022-03-10    NaN  35.436755  385.000000\n",
       "2022-03-11    NaN  48.543500  367.799988\n",
       "\n",
       "[91 rows x 3 columns]"
      ]
     },
     "execution_count": 8,
     "metadata": {},
     "output_type": "execute_result"
    }
   ],
   "source": [
    "data"
   ]
  },
  {
   "cell_type": "code",
   "execution_count": 9,
   "metadata": {},
   "outputs": [
    {
     "ename": "TypeError",
     "evalue": "'float' object is not subscriptable",
     "output_type": "error",
     "traceback": [
      "\u001b[1;31m---------------------------------------------------------------------------\u001b[0m",
      "\u001b[1;31mTypeError\u001b[0m                                 Traceback (most recent call last)",
      "\u001b[1;32m<ipython-input-9-0b7463870ec1>\u001b[0m in \u001b[0;36m<module>\u001b[1;34m\u001b[0m\n\u001b[1;32m----> 1\u001b[1;33m \u001b[0mdata\u001b[0m\u001b[1;33m.\u001b[0m\u001b[0mDelta\u001b[0m \u001b[1;33m=\u001b[0m \u001b[1;33m[\u001b[0m\u001b[1;33m-\u001b[0m\u001b[0mfloat\u001b[0m\u001b[1;33m(\u001b[0m\u001b[0mx\u001b[0m\u001b[1;33m[\u001b[0m\u001b[1;36m1\u001b[0m\u001b[1;33m:\u001b[0m\u001b[1;33m-\u001b[0m\u001b[1;36m1\u001b[0m\u001b[1;33m]\u001b[0m\u001b[1;33m)\u001b[0m \u001b[1;32mfor\u001b[0m \u001b[0mx\u001b[0m \u001b[1;32min\u001b[0m \u001b[0mdata\u001b[0m\u001b[1;33m.\u001b[0m\u001b[0mDelta\u001b[0m\u001b[1;33m]\u001b[0m\u001b[1;33m\u001b[0m\u001b[1;33m\u001b[0m\u001b[0m\n\u001b[0m",
      "\u001b[1;32m<ipython-input-9-0b7463870ec1>\u001b[0m in \u001b[0;36m<listcomp>\u001b[1;34m(.0)\u001b[0m\n\u001b[1;32m----> 1\u001b[1;33m \u001b[0mdata\u001b[0m\u001b[1;33m.\u001b[0m\u001b[0mDelta\u001b[0m \u001b[1;33m=\u001b[0m \u001b[1;33m[\u001b[0m\u001b[1;33m-\u001b[0m\u001b[0mfloat\u001b[0m\u001b[1;33m(\u001b[0m\u001b[0mx\u001b[0m\u001b[1;33m[\u001b[0m\u001b[1;36m1\u001b[0m\u001b[1;33m:\u001b[0m\u001b[1;33m-\u001b[0m\u001b[1;36m1\u001b[0m\u001b[1;33m]\u001b[0m\u001b[1;33m)\u001b[0m \u001b[1;32mfor\u001b[0m \u001b[0mx\u001b[0m \u001b[1;32min\u001b[0m \u001b[0mdata\u001b[0m\u001b[1;33m.\u001b[0m\u001b[0mDelta\u001b[0m\u001b[1;33m]\u001b[0m\u001b[1;33m\u001b[0m\u001b[1;33m\u001b[0m\u001b[0m\n\u001b[0m",
      "\u001b[1;31mTypeError\u001b[0m: 'float' object is not subscriptable"
     ]
    }
   ],
   "source": [
    "data.Delta = [-float(x[1:-1]) for x in data.Delta]"
   ]
  },
  {
   "cell_type": "code",
   "execution_count": 10,
   "metadata": {},
   "outputs": [
    {
     "data": {
      "text/html": [
       "<div>\n",
       "<style scoped>\n",
       "    .dataframe tbody tr th:only-of-type {\n",
       "        vertical-align: middle;\n",
       "    }\n",
       "\n",
       "    .dataframe tbody tr th {\n",
       "        vertical-align: top;\n",
       "    }\n",
       "\n",
       "    .dataframe thead th {\n",
       "        text-align: right;\n",
       "    }\n",
       "</style>\n",
       "<table border=\"1\" class=\"dataframe\">\n",
       "  <thead>\n",
       "    <tr style=\"text-align: right;\">\n",
       "      <th></th>\n",
       "      <th>Delta</th>\n",
       "      <th>Option</th>\n",
       "      <th>Asset</th>\n",
       "    </tr>\n",
       "  </thead>\n",
       "  <tbody>\n",
       "    <tr>\n",
       "      <th>2021-11-01</th>\n",
       "      <td>-0.300</td>\n",
       "      <td>24.077576</td>\n",
       "      <td>469.600006</td>\n",
       "    </tr>\n",
       "    <tr>\n",
       "      <th>2021-11-02</th>\n",
       "      <td>-0.318</td>\n",
       "      <td>26.213490</td>\n",
       "      <td>464.000000</td>\n",
       "    </tr>\n",
       "  </tbody>\n",
       "</table>\n",
       "</div>"
      ],
      "text/plain": [
       "            Delta     Option       Asset\n",
       "2021-11-01 -0.300  24.077576  469.600006\n",
       "2021-11-02 -0.318  26.213490  464.000000"
      ]
     },
     "execution_count": 10,
     "metadata": {},
     "output_type": "execute_result"
    }
   ],
   "source": [
    "data.head(2)"
   ]
  },
  {
   "cell_type": "code",
   "execution_count": 23,
   "metadata": {},
   "outputs": [],
   "source": [
    "def tracking_error(weights: np.array, asset_price, option_price, delta):\n",
    "    \n",
    "    # print(f\"Asset Price: {asset_price}\")\n",
    "    # print(f\"Option Price: {option_price}\")\n",
    "    # print(f\"weight0: {weights[0]}, weights[1]: {weights[1]/100}\")\n",
    "\n",
    "    portfolio = weights[0] + (weights[1]/100)*asset_price\n",
    "\n",
    "    err = 100*abs(portfolio - option_price) + (10*abs(delta - weights[1]/100))\n",
    "    # print(f\"Tracking Error: {err}\")\n",
    "\n",
    "    return err"
   ]
  },
  {
   "cell_type": "code",
   "execution_count": 24,
   "metadata": {},
   "outputs": [],
   "source": [
    "from scipy.optimize import minimize, LinearConstraint\n",
    "def optimise(asset_price, option_price, constraints, past_weights, delta):\n",
    "\n",
    "    objective_function = tracking_error\n",
    "\n",
    "    initial_guess = np.random.random(size=2)\n",
    "    \n",
    "    initial_guess[0] *= 400\n",
    "    initial_guess[1] *= -100\n",
    "    # print(f\"Initial Guess: {initial_guess}\")\n",
    "\n",
    "    args = (asset_price, option_price, delta)\n",
    " \n",
    "    bounds = [(0, 400), (-100, 0)]\n",
    "    # print(initial_guess)\n",
    "    # print(\"Asset Price: \", asset_price, \"Option Price: \", option_price)\n",
    "    result = minimize(objective_function, x0 = initial_guess ,args = args,\n",
    "                bounds=bounds, options={'disp': False}, constraints=constraints)\n",
    "\n",
    "    return result"
   ]
  },
  {
   "cell_type": "code",
   "execution_count": 25,
   "metadata": {},
   "outputs": [],
   "source": [
    "def self_financing_constraint(weights: np.array, last_known_price: float, previous_weights: np.array):\n",
    "\n",
    "    past_portfolio_value = previous_weights[0] + previous_weights[1] * last_known_price\n",
    "    present_portfolio_value = weights[1] + weights[1] * last_known_price\n",
    "    return present_portfolio_value - past_portfolio_value"
   ]
  },
  {
   "cell_type": "code",
   "execution_count": 26,
   "metadata": {},
   "outputs": [
    {
     "data": {
      "text/html": [
       "<div>\n",
       "<style scoped>\n",
       "    .dataframe tbody tr th:only-of-type {\n",
       "        vertical-align: middle;\n",
       "    }\n",
       "\n",
       "    .dataframe tbody tr th {\n",
       "        vertical-align: top;\n",
       "    }\n",
       "\n",
       "    .dataframe thead th {\n",
       "        text-align: right;\n",
       "    }\n",
       "</style>\n",
       "<table border=\"1\" class=\"dataframe\">\n",
       "  <thead>\n",
       "    <tr style=\"text-align: right;\">\n",
       "      <th></th>\n",
       "      <th>Delta</th>\n",
       "      <th>Option</th>\n",
       "      <th>Asset</th>\n",
       "      <th>Risk Free</th>\n",
       "    </tr>\n",
       "  </thead>\n",
       "  <tbody>\n",
       "    <tr>\n",
       "      <th>2021-11-01</th>\n",
       "      <td>-0.300</td>\n",
       "      <td>24.077576</td>\n",
       "      <td>469.600006</td>\n",
       "      <td>1</td>\n",
       "    </tr>\n",
       "    <tr>\n",
       "      <th>2021-11-02</th>\n",
       "      <td>-0.318</td>\n",
       "      <td>26.213490</td>\n",
       "      <td>464.000000</td>\n",
       "      <td>1</td>\n",
       "    </tr>\n",
       "    <tr>\n",
       "      <th>2021-11-03</th>\n",
       "      <td>-0.301</td>\n",
       "      <td>23.883402</td>\n",
       "      <td>469.000000</td>\n",
       "      <td>1</td>\n",
       "    </tr>\n",
       "    <tr>\n",
       "      <th>2021-11-04</th>\n",
       "      <td>-0.268</td>\n",
       "      <td>21.262053</td>\n",
       "      <td>480.799988</td>\n",
       "      <td>1</td>\n",
       "    </tr>\n",
       "    <tr>\n",
       "      <th>2021-11-05</th>\n",
       "      <td>-0.305</td>\n",
       "      <td>23.980489</td>\n",
       "      <td>467.399994</td>\n",
       "      <td>1</td>\n",
       "    </tr>\n",
       "    <tr>\n",
       "      <th>...</th>\n",
       "      <td>...</td>\n",
       "      <td>...</td>\n",
       "      <td>...</td>\n",
       "      <td>...</td>\n",
       "    </tr>\n",
       "    <tr>\n",
       "      <th>2022-03-07</th>\n",
       "      <td>NaN</td>\n",
       "      <td>33.980450</td>\n",
       "      <td>388.000000</td>\n",
       "      <td>1</td>\n",
       "    </tr>\n",
       "    <tr>\n",
       "      <th>2022-03-08</th>\n",
       "      <td>NaN</td>\n",
       "      <td>36.407625</td>\n",
       "      <td>383.200012</td>\n",
       "      <td>1</td>\n",
       "    </tr>\n",
       "    <tr>\n",
       "      <th>2022-03-09</th>\n",
       "      <td>NaN</td>\n",
       "      <td>39.320235</td>\n",
       "      <td>384.799988</td>\n",
       "      <td>1</td>\n",
       "    </tr>\n",
       "    <tr>\n",
       "      <th>2022-03-10</th>\n",
       "      <td>NaN</td>\n",
       "      <td>35.436755</td>\n",
       "      <td>385.000000</td>\n",
       "      <td>1</td>\n",
       "    </tr>\n",
       "    <tr>\n",
       "      <th>2022-03-11</th>\n",
       "      <td>NaN</td>\n",
       "      <td>48.543500</td>\n",
       "      <td>367.799988</td>\n",
       "      <td>1</td>\n",
       "    </tr>\n",
       "  </tbody>\n",
       "</table>\n",
       "<p>91 rows × 4 columns</p>\n",
       "</div>"
      ],
      "text/plain": [
       "            Delta     Option       Asset  Risk Free\n",
       "2021-11-01 -0.300  24.077576  469.600006          1\n",
       "2021-11-02 -0.318  26.213490  464.000000          1\n",
       "2021-11-03 -0.301  23.883402  469.000000          1\n",
       "2021-11-04 -0.268  21.262053  480.799988          1\n",
       "2021-11-05 -0.305  23.980489  467.399994          1\n",
       "...           ...        ...         ...        ...\n",
       "2022-03-07    NaN  33.980450  388.000000          1\n",
       "2022-03-08    NaN  36.407625  383.200012          1\n",
       "2022-03-09    NaN  39.320235  384.799988          1\n",
       "2022-03-10    NaN  35.436755  385.000000          1\n",
       "2022-03-11    NaN  48.543500  367.799988          1\n",
       "\n",
       "[91 rows x 4 columns]"
      ]
     },
     "execution_count": 26,
     "metadata": {},
     "output_type": "execute_result"
    }
   ],
   "source": [
    "data['Risk Free'] = 1\n",
    "data"
   ]
  },
  {
   "cell_type": "code",
   "execution_count": 32,
   "metadata": {},
   "outputs": [],
   "source": [
    "\n",
    "def replicate():\n",
    "\n",
    "    \n",
    "    init_cash = (data.Option - data.Asset * data.Delta)[0]\n",
    "\n",
    "    allocations = [{\n",
    "        'allocation':[init_cash, data.Delta[0]],\n",
    "        'asset close price': data.Asset[1]\n",
    "    }]\n",
    "    dates = [data.index[0]]\n",
    "    for idx, date in enumerate(data.index[:-10]):\n",
    "\n",
    "        if idx <= 1: continue\n",
    "\n",
    "    \n",
    "        asset_price_last_close = data.Asset.iloc[idx - 1]\n",
    "        option_price_last_close = data.Option.iloc[idx - 1]\n",
    "        delta = data.Delta.iloc[idx - 1]\n",
    "\n",
    "        # print(\"\\n\")\n",
    "\n",
    "        # print(f\"Date: {date}, Asset Close(t-1): {asset_price_last_close}, Option Price(t-1): {option_price_last_close}\")\n",
    "\n",
    "        previous_weights = allocations[-1]['allocation']\n",
    "\n",
    "        # print(f\"Previous Allocation: {previous_weights}\")\n",
    "\n",
    "        past_portfolio_value = previous_weights[0] + previous_weights[1] * asset_price_last_close\n",
    "        # print(f\"Past Portfolio Value: {past_portfolio_value}\")\n",
    "\n",
    "        if date.dayofweek in [0, 3]:\n",
    "\n",
    "            dates.append(date)\n",
    "\n",
    "            self_financing_constraint = LinearConstraint([1, asset_price_last_close/100],\n",
    "                                        ub = past_portfolio_value, lb = past_portfolio_value)\n",
    "\n",
    "            weights = optimise(\n",
    "                            asset_price = asset_price_last_close,\n",
    "                            option_price = option_price_last_close,\n",
    "                            constraints = self_financing_constraint,\n",
    "                            past_weights = previous_weights,\n",
    "                            delta = delta\n",
    "                            )['x']\n",
    "\n",
    "            allocations.append({'allocation':[weights[0], weights[1]/100],\n",
    "                                'asset close price': data.Asset.iloc[idx]\n",
    "                                })\n",
    "                                \n",
    "    weights = [x['allocation'] for x in allocations]\n",
    "    hedged_pf = pd.DataFrame(weights, index = dates, columns = ['Risk Free', 'Asset'])\n",
    "    \n",
    "    # , index = data.index[1:], columns = ['Risk Free', 'Asset']).multiply(data[['Risk Free', 'Asset']]).sum(axis=1)\n",
    "\n",
    "    fig, ax = plt.subplots()\n",
    "    data.Option[hedged_pf.index].plot(ax=ax)\n",
    "    hedged_pf.multiply(data[['Risk Free', 'Asset']].loc[hedged_pf.index, :]).sum(axis=1).plot(ax=ax, color = 'r')\n",
    "\n",
    "    return allocations, hedged_pf"
   ]
  },
  {
   "cell_type": "code",
   "execution_count": 37,
   "metadata": {},
   "outputs": [
    {
     "data": {
      "image/png": "[encoded data removed]",
      "text/plain": [
       "<Figure size 576x396 with 1 Axes>"
      ]
     },
     "metadata": {},
     "output_type": "display_data"
    }
   ],
   "source": [
    "allocations, pf = replicate()"
   ]
  },
  {
   "cell_type": "code",
   "execution_count": 31,
   "metadata": {},
   "outputs": [
    {
     "data": {
      "text/plain": [
       "2022-02-28   -0.431\n",
       "2022-03-01   -0.353\n",
       "2022-03-02   -0.412\n",
       "2022-03-03   -0.448\n",
       "2022-03-04   -0.579\n",
       "2022-03-07      NaN\n",
       "2022-03-08      NaN\n",
       "2022-03-09      NaN\n",
       "2022-03-10      NaN\n",
       "2022-03-11      NaN\n",
       "Name: Delta, dtype: float64"
      ]
     },
     "execution_count": 31,
     "metadata": {},
     "output_type": "execute_result"
    }
   ],
   "source": [
    "data.Delta.tail(10)"
   ]
  },
  {
   "cell_type": "code",
   "execution_count": 202,
   "metadata": {},
   "outputs": [
    {
     "data": {
      "text/plain": [
       "(363.0125, -0.855)"
      ]
     },
     "execution_count": 202,
     "metadata": {},
     "output_type": "execute_result"
    }
   ],
   "source": [
    "LAST_PRICE = 367.80\n",
    "DELTA = -0.855\n",
    "WARRANT_PRICE = 0.5\n",
    "ENTITLEMENT = 97.087\n",
    "\n",
    "CASH = WARRANT_PRICE * ENTITLEMENT - DELTA*LAST_PRICE\n",
    "\n",
    "CASH, DELTA"
   ]
  },
  {
   "cell_type": "code",
   "execution_count": 204,
   "metadata": {},
   "outputs": [
    {
     "data": {
      "text/plain": [
       "48.5435"
      ]
     },
     "execution_count": 204,
     "metadata": {},
     "output_type": "execute_result"
    }
   ],
   "source": [
    "WARRANT_PRICE * ENTITLEMENT"
   ]
  },
  {
   "cell_type": "code",
   "execution_count": 203,
   "metadata": {},
   "outputs": [
    {
     "data": {
      "text/plain": [
       "48.543499999999995"
      ]
     },
     "execution_count": 203,
     "metadata": {},
     "output_type": "execute_result"
    }
   ],
   "source": [
    "CASH + DELTA*LAST_PRICE"
   ]
  },
  {
   "cell_type": "code",
   "execution_count": 170,
   "metadata": {},
   "outputs": [
    {
     "data": {
      "text/plain": [
       "[{'allocation': [164.95757783105466, -0.3], 'asset close price': 464.0},\n",
       " {'allocation': [199.68109569738976, -0.3748351678153773],\n",
       "  'asset close price': 480.79998779296875},\n",
       " {'allocation': [181.64565028453663, -0.33732384112911457],\n",
       "  'asset close price': 463.79998779296875}]"
      ]
     },
     "execution_count": 170,
     "metadata": {},
     "output_type": "execute_result"
    }
   ],
   "source": [
    "allocations[:3]"
   ]
  },
  {
   "cell_type": "code",
   "execution_count": 172,
   "metadata": {},
   "outputs": [
    {
     "data": {
      "text/plain": [
       "19.4775348"
      ]
     },
     "execution_count": 172,
     "metadata": {},
     "output_type": "execute_result"
    }
   ],
   "source": [
    "\n",
    "199.681 - 0.3748*480.799\n"
   ]
  },
  {
   "cell_type": "code",
   "execution_count": 173,
   "metadata": {},
   "outputs": [
    {
     "data": {
      "text/plain": [
       "19.4720973"
      ]
     },
     "execution_count": 173,
     "metadata": {},
     "output_type": "execute_result"
    }
   ],
   "source": [
    "181.6456 - 0.3373*480.799"
   ]
  },
  {
   "cell_type": "code",
   "execution_count": null,
   "metadata": {},
   "outputs": [],
   "source": [
    "fig, ax = plt.subplots(figsize = (16, 9))\n",
    "\n",
    "(data.Option.diff() / data.Asset.diff()).rolling(20).mean().plot(ax=ax, color = 'r')\n",
    "data.Delta.plot()\n",
    "plt.show()"
   ]
  },
  {
   "cell_type": "code",
   "execution_count": null,
   "metadata": {},
   "outputs": [],
   "source": [
    "period = 2\n",
    "returns = data.Asset.pct_change(period).dropna()\n",
    "b = returns[returns > 0].mean()\n",
    "a = returns[returns < 0].mean()\n",
    "\n",
    "print(a, b)"
   ]
  }
 ],
 "metadata": {
  "interpreter": {
   "hash": "009c6260f8c949f949e8d5c80e91b7d11da42068722b763148e110eb4d6efd9c"
  },
  "kernelspec": {
   "display_name": "Python 3.7.10",
   "language": "python",
   "name": "python3"
  },
  "language_info": {
   "codemirror_mode": {
    "name": "ipython",
    "version": 3
   },
   "file_extension": ".py",
   "mimetype": "text/x-python",
   "name": "python",
   "nbconvert_exporter": "python",
   "pygments_lexer": "ipython3",
   "version": "3.7.10"
  },
  "orig_nbformat": 4
 },
 "nbformat": 4,
 "nbformat_minor": 2
}
